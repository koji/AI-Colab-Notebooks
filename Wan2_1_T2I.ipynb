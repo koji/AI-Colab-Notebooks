{
 "cells": [
  {
   "cell_type": "code",
   "execution_count": null,
   "metadata": {
    "colab": {
     "base_uri": "https://localhost:8080/"
    },
    "id": "zbWqcQ5vP2-_",
    "outputId": "eeba2e8f-2cb5-434c-c1c9-43f5832e7ef2"
   },
   "outputs": [],
   "source": [
    "# setup env\n",
    "%cd /content\n",
    "!git clone https://github.com/comfyanonymous/ComfyUI /content/ComfyUI\n",
    "!git clone https://github.com/city96/ComfyUI-GGUF /content/ComfyUI/custom_nodes/ComfyUI-GGUF\n",
    "!pip install torchsde gguf av"
   ]
  },
  {
   "cell_type": "code",
   "execution_count": null,
   "metadata": {
    "colab": {
     "base_uri": "https://localhost:8080/"
    },
    "id": "Be6b5g_cP_t4",
    "outputId": "bc525a31-8ab1-4910-e176-e9d4c16dbcdb"
   },
   "outputs": [],
   "source": [
    "!apt install aria2 -qqy"
   ]
  },
  {
   "cell_type": "code",
   "execution_count": null,
   "metadata": {
    "colab": {
     "base_uri": "https://localhost:8080/"
    },
    "id": "et0hSBbpQKgf",
    "outputId": "fd075dba-98a7-40d5-88f9-1b9e902910d7"
   },
   "outputs": [],
   "source": [
    "# download models\n",
    "!aria2c --console-log-level=error -c -x 16 -s 16 -k 1M https://huggingface.co/city96/Wan2.1-T2V-14B-gguf/resolve/main/wan2.1-t2v-14b-Q3_K_S.gguf -d /content/ComfyUI/models/unet -o wan2.1-t2v-14b-Q3_K_M.gguf\n",
    "!aria2c --console-log-level=error -c -x 16 -s 16 -k 1M https://huggingface.co/city96/umt5-xxl-encoder-gguf/resolve/main/umt5-xxl-encoder-Q3_K_S.gguf -d /content/ComfyUI/models/clip -o umt5-xxl-encoder-Q3_K_M.gguf\n",
    "!aria2c --console-log-level=error -c -x 16 -s 16 -k 1M https://huggingface.co/Comfy-Org/Wan_2.1_ComfyUI_repackaged/resolve/main/split_files/vae/wan_2.1_vae.safetensors -d /content/ComfyUI/models/vae -o/wan_2.1_vae.safetensors\n",
    "!aria2c --console-log-level=error -c -x 16 -s 16 -k 1M https://huggingface.co/vrgamedevgirl84/Wan14BT2VFusioniX/resolve/main/FusionX_LoRa/Wan2.1_T2V_14B_FusionX_LoRA.safetensors -d /content/ComfyUI/models/loras/FusionX -o Wan2.1_T2V_14B_FusionX_LoRA.safetensors\n"
   ]
  },
  {
   "cell_type": "code",
   "execution_count": null,
   "metadata": {
    "colab": {
     "base_uri": "https://localhost:8080/"
    },
    "id": "SlVIA9spQjf3",
    "outputId": "79e47f4d-0f3a-46e4-931a-c034b5f1da3e"
   },
   "outputs": [],
   "source": [
    "%cd /content/ComfyUI"
   ]
  },
  {
   "cell_type": "code",
   "execution_count": null,
   "metadata": {
    "id": "Uco8aOpTQn6O"
   },
   "outputs": [],
   "source": [
    "import torch\n",
    "import random, time\n",
    "from PIL import Image\n",
    "import numpy as np\n",
    "\n",
    "from nodes import NODE_CLASS_MAPPINGS\n",
    "from comfy_extras import nodes_hunyuan, nodes_model_advanced"
   ]
  },
  {
   "cell_type": "code",
   "execution_count": null,
   "metadata": {
    "colab": {
     "base_uri": "https://localhost:8080/"
    },
    "id": "g9tdgoBOQrhJ",
    "outputId": "135ada2b-bcf6-438f-ad13-4d008a91a5e9"
   },
   "outputs": [],
   "source": [
    "import sys\n",
    "import os\n",
    "sys.path.append(\"/content/ComfyUI/custom_nodes/ComfyUI-GGUF\")\n",
    "\n",
    "try:\n",
    "    import importlib.util\n",
    "    spec = importlib.util.spec_from_file_location(\"comfyui_gguf\", \"/content/ComfyUI/custom_nodes/ComfyUI-GGUF/__init__.py\")\n",
    "    comfyui_gguf = importlib.util.module_from_spec(spec)\n",
    "    sys.modules[\"comfyui_gguf\"] = comfyui_gguf\n",
    "    spec.loader.exec_module(comfyui_gguf)\n",
    "\n",
    "    if hasattr(comfyui_gguf, 'NODE_CLASS_MAPPINGS'):\n",
    "        NODE_CLASS_MAPPINGS.update(comfyui_gguf.NODE_CLASS_MAPPINGS)\n",
    "        print(\"ComfyUI-GGUF nodes loaded successfully!\")\n",
    "\n",
    "except Exception as e:\n",
    "    print(f\"Error loading ComfyUI-GGUF: {e}\")"
   ]
  },
  {
   "cell_type": "code",
   "execution_count": null,
   "metadata": {
    "colab": {
     "base_uri": "https://localhost:8080/"
    },
    "id": "yg3rsdV_Qy7W",
    "outputId": "fa801abf-d3a1-4b4b-b08b-ca8defb0d7a5"
   },
   "outputs": [],
   "source": [
    "gguf_nodes = [k for k in NODE_CLASS_MAPPINGS.keys() if \"GGUF\" in k]\n",
    "print(f\"Available GGUF nodes: {gguf_nodes}\")\n",
    "\n",
    "required_nodes = [\"UnetLoaderGGUF\", \"CLIPLoaderGGUF\", \"LoraLoaderModelOnly\", \"VAELoader\"]\n",
    "missing_nodes = [node for node in required_nodes if node not in NODE_CLASS_MAPPINGS]\n",
    "\n",
    "if missing_nodes:\n",
    "    print(f\"Missing nodes: {missing_nodes}\")\n",
    "    print(\"Available nodes:\", list(NODE_CLASS_MAPPINGS.keys())[:20])\n",
    "else:\n",
    "    UnetLoaderGGUF = NODE_CLASS_MAPPINGS[\"UnetLoaderGGUF\"]()\n",
    "    CLIPLoaderGGUF = NODE_CLASS_MAPPINGS[\"CLIPLoaderGGUF\"]()\n",
    "    LoraLoaderModelOnly = NODE_CLASS_MAPPINGS[\"LoraLoaderModelOnly\"]()\n",
    "    VAELoader = NODE_CLASS_MAPPINGS[\"VAELoader\"]()\n",
    "\n",
    "    CLIPTextEncode = NODE_CLASS_MAPPINGS[\"CLIPTextEncode\"]()\n",
    "    EmptyHunyuanLatentVideo = nodes_hunyuan.NODE_CLASS_MAPPINGS[\"EmptyHunyuanLatentVideo\"]()\n",
    "\n",
    "    KSampler = NODE_CLASS_MAPPINGS[\"KSampler\"]()\n",
    "    ModelSamplingSD3 = nodes_model_advanced.NODE_CLASS_MAPPINGS[\"ModelSamplingSD3\"]()\n",
    "    VAEDecode = NODE_CLASS_MAPPINGS[\"VAEDecode\"]()\n",
    "\n",
    "    print(\"All required nodes loaded successfully!\")"
   ]
  },
  {
   "cell_type": "code",
   "execution_count": null,
   "metadata": {
    "colab": {
     "base_uri": "https://localhost:8080/"
    },
    "id": "y45l6AJ1Q4jX",
    "outputId": "86078541-32c1-41d2-dca2-194400a49262"
   },
   "outputs": [],
   "source": [
    "    model_paths = {\n",
    "        \"unet\": \"/content/ComfyUI/models/unet/wan2.1-t2v-14b-Q3_K_M.gguf\",\n",
    "        \"clip\": \"/content/ComfyUI/models/clip/umt5-xxl-encoder-Q3_K_M.gguf\",\n",
    "        \"vae\": \"/content/ComfyUI/models/vae/wan_2.1_vae.safetensors\",\n",
    "        \"lora\": \"/content/ComfyUI/models/loras/FusionX/Wan2.1_T2V_14B_FusionX_LoRA.safetensors\"\n",
    "    }\n",
    "\n",
    "    print(\"\\nModel file check:\")\n",
    "    for model_type, path in model_paths.items():\n",
    "        exists = os.path.exists(path)\n",
    "        print(f\"{model_type}: {'✓' if exists else '✗'} {path}\")\n",
    "\n",
    "    try:\n",
    "        with torch.inference_mode():\n",
    "            print(\"\\nLoading models...\")\n",
    "\n",
    "            unet = UnetLoaderGGUF.load_unet(\"wan2.1-t2v-14b-Q3_K_M.gguf\")[0]\n",
    "            print(\"✓ UNet loaded\")\n",
    "\n",
    "            clip = CLIPLoaderGGUF.load_clip(\"umt5-xxl-encoder-Q3_K_M.gguf\", \"wan\")[0]\n",
    "            print(\"✓ CLIP loaded\")\n",
    "\n",
    "            lora = LoraLoaderModelOnly.load_lora_model_only(unet, \"FusionX/Wan2.1_T2V_14B_FusionX_LoRA.safetensors\", 1.0)[0]\n",
    "            print(\"✓ LoRA loaded\")\n",
    "\n",
    "            vae = VAELoader.load_vae(\"wan_2.1_vae.safetensors\")[0]\n",
    "            print(\"✓ VAE loaded\")\n",
    "\n",
    "            print(\"\\n&#x1f389; All models loaded successfully!\")\n",
    "\n",
    "    except Exception as e:\n",
    "        print(f\"\\n&#x274c; Error loading models: {e}\")"
   ]
  },
  {
   "cell_type": "code",
   "execution_count": null,
   "metadata": {
    "id": "41BtmWF-RAWS"
   },
   "outputs": [],
   "source": [
    "def generate_image(positive_prompt, negative_prompt,\n",
    "                  seed=0, steps=10, cfg=1.0,\n",
    "                  sampler_name=\"euler\", scheduler=\"beta\",\n",
    "                  width=1280, height=720, length=1,\n",
    "                  output_path=\"/content/test.png\"):\n",
    "    \"\"\"\n",
    "    High-Quality Character Image Generation Function\n",
    "\n",
    "    Parameters:\n",
    "    -----------\n",
    "    positive_prompt : str\n",
    "        Positive prompt (detailed description of desired content)\n",
    "    negative_prompt : str\n",
    "        Negative prompt (specification of elements to avoid)\n",
    "    seed : int\n",
    "        Random seed (0 for random generation)\n",
    "    steps : int\n",
    "        Number of sampling steps (affects image quality)\n",
    "    cfg : float\n",
    "        CFG value (prompt adherence strength)\n",
    "    sampler_name : str\n",
    "        Name of the sampler\n",
    "    scheduler : str\n",
    "        Name of the scheduler\n",
    "    width, height : int\n",
    "        Output image dimensions\n",
    "    length : int\n",
    "        Parameter for video generation (set to 1 for still images)\n",
    "    output_path : str\n",
    "        Path to save the generated image\n",
    "\n",
    "    Returns:\n",
    "    --------\n",
    "    PIL.Image\n",
    "        The generated image object\n",
    "    \"\"\"\n",
    "\n",
    "    with torch.inference_mode():\n",
    "        positive_encoded = CLIPTextEncode.encode(clip, positive_prompt)[0]\n",
    "        negative_encoded = CLIPTextEncode.encode(clip, negative_prompt)[0]\n",
    "\n",
    "        model_configured = ModelSamplingSD3.patch(lora, 1.0)[0]\n",
    "        latent_space = EmptyHunyuanLatentVideo.generate(width, height, length)[0]\n",
    "\n",
    "        if seed == 0:\n",
    "            random.seed(int(time.time()))\n",
    "            seed = random.randint(0, 18446744073709551615)\n",
    "\n",
    "        print(f\"🎲 Seed used: {seed}\")\n",
    "\n",
    "        samples = KSampler.sample(\n",
    "            model_configured, seed, steps, cfg,\n",
    "            sampler_name, scheduler,\n",
    "            positive_encoded, negative_encoded, latent_space\n",
    "        )[0]\n",
    "\n",
    "        decoded = VAEDecode.decode(vae, samples)[0].detach()\n",
    "        image_array = np.array(decoded * 255, dtype=np.uint8)[0]\n",
    "        final_image = Image.fromarray(image_array)\n",
    "\n",
    "        if output_path:\n",
    "            final_image.save(output_path)\n",
    "            print(f\"💾 Image saved to: {output_path}\")\n",
    "\n",
    "        return final_image\n"
   ]
  },
  {
   "cell_type": "code",
   "execution_count": null,
   "metadata": {
    "colab": {
     "base_uri": "https://localhost:8080/",
     "height": 804,
     "referenced_widgets": [
      "86572d02f4ca4beb91974d631cb84b54",
      "f4cd32e5267e4a85a259072eb8096c05",
      "2becc7c174154b129196dd197949e556",
      "0835806b17d946c3bfc109dc4428eba0",
      "25665b9b12cc4da0b875a9ed19bbe223",
      "ed7857c4e9564a9b8453aba1732915de",
      "4bf1030aab8c49e68f84578b6ffe9ceb",
      "20c2c0892819411292acb18b187cf1ab",
      "57d3bff3b20f4edb81bd3c694012c322",
      "ff57a2114f9f487d9310107bf7e92d7a",
      "cf35e40ab2584d27a0c9f39d6fc69412"
     ]
    },
    "id": "OZ4ya4vCRgos",
    "outputId": "ee906b42-6fd3-4ced-ab2a-5a9c26067dab"
   },
   "outputs": [],
   "source": [
    "positive_test_prompt = \"\"\"\n",
    "A vibrant rhythm dance game screenshot featuring the 3D animated character from the reference photo, keeping its unique style, hat, outfit, and confident dance pose. Immersive cinematic lighting with neon pink and purple glow, glossy reflective dance floor shining under spotlights, and dynamic 3D cartoon style. Rhythm game interface with immersive UI: score meter at the top, colorful music waveform animations synced to the beat, stage timer countdown, and floating combo numbers. Highly detailed, game-like atmosphere with energy bars, neon particle effects, and immersive arcade rhythm game HUD elements. Ultra-detailed, cinematic, immersive, 3D animation.\n",
    "\"\"\"\n",
    "\n",
    "negative_test_prompt = \"\"\"\n",
    "Realistic proportions, scary, creepy, ugly, deformed, extra limbs, blurry, low resolution, messy background, dark horror style, grotesque, overly sexualized, distorted anatomy, bad hands, bad face, text, watermark\n",
    "\"\"\"\n",
    "\n",
    "test_image = generate_image(\n",
    "    positive_test_prompt,\n",
    "    negative_test_prompt,\n",
    "    output_path=\"/content/test.png\"\n",
    ")\n",
    "\n",
    "display(test_image)"
   ]
  },
  {
   "cell_type": "code",
   "execution_count": null,
   "metadata": {
    "id": "hfsQJjqSSaOU"
   },
   "outputs": [],
   "source": []
  }
 ],
 "metadata": {
  "accelerator": "GPU",
  "colab": {
   "gpuType": "T4",
   "provenance": []
  },
  "kernelspec": {
   "display_name": "Python 3",
   "name": "python3"
  },
  "language_info": {
   "name": "python"
  },
  "widgets": {
   "application/vnd.jupyter.widget-state+json": {
    "0835806b17d946c3bfc109dc4428eba0": {
     "model_module": "@jupyter-widgets/controls",
     "model_module_version": "1.5.0",
     "model_name": "HTMLModel",
     "state": {
      "_dom_classes": [],
      "_model_module": "@jupyter-widgets/controls",
      "_model_module_version": "1.5.0",
      "_model_name": "HTMLModel",
      "_view_count": null,
      "_view_module": "@jupyter-widgets/controls",
      "_view_module_version": "1.5.0",
      "_view_name": "HTMLView",
      "description": "",
      "description_tooltip": null,
      "layout": "IPY_MODEL_ff57a2114f9f487d9310107bf7e92d7a",
      "placeholder": "​",
      "style": "IPY_MODEL_cf35e40ab2584d27a0c9f39d6fc69412",
      "value": " 10/10 [01:34&lt;00:00,  9.33s/it]"
     }
    },
    "20c2c0892819411292acb18b187cf1ab": {
     "model_module": "@jupyter-widgets/base",
     "model_module_version": "1.2.0",
     "model_name": "LayoutModel",
     "state": {
      "_model_module": "@jupyter-widgets/base",
      "_model_module_version": "1.2.0",
      "_model_name": "LayoutModel",
      "_view_count": null,
      "_view_module": "@jupyter-widgets/base",
      "_view_module_version": "1.2.0",
      "_view_name": "LayoutView",
      "align_content": null,
      "align_items": null,
      "align_self": null,
      "border": null,
      "bottom": null,
      "display": null,
      "flex": null,
      "flex_flow": null,
      "grid_area": null,
      "grid_auto_columns": null,
      "grid_auto_flow": null,
      "grid_auto_rows": null,
      "grid_column": null,
      "grid_gap": null,
      "grid_row": null,
      "grid_template_areas": null,
      "grid_template_columns": null,
      "grid_template_rows": null,
      "height": null,
      "justify_content": null,
      "justify_items": null,
      "left": null,
      "margin": null,
      "max_height": null,
      "max_width": null,
      "min_height": null,
      "min_width": null,
      "object_fit": null,
      "object_position": null,
      "order": null,
      "overflow": null,
      "overflow_x": null,
      "overflow_y": null,
      "padding": null,
      "right": null,
      "top": null,
      "visibility": null,
      "width": null
     }
    },
    "25665b9b12cc4da0b875a9ed19bbe223": {
     "model_module": "@jupyter-widgets/base",
     "model_module_version": "1.2.0",
     "model_name": "LayoutModel",
     "state": {
      "_model_module": "@jupyter-widgets/base",
      "_model_module_version": "1.2.0",
      "_model_name": "LayoutModel",
      "_view_count": null,
      "_view_module": "@jupyter-widgets/base",
      "_view_module_version": "1.2.0",
      "_view_name": "LayoutView",
      "align_content": null,
      "align_items": null,
      "align_self": null,
      "border": null,
      "bottom": null,
      "display": null,
      "flex": null,
      "flex_flow": null,
      "grid_area": null,
      "grid_auto_columns": null,
      "grid_auto_flow": null,
      "grid_auto_rows": null,
      "grid_column": null,
      "grid_gap": null,
      "grid_row": null,
      "grid_template_areas": null,
      "grid_template_columns": null,
      "grid_template_rows": null,
      "height": null,
      "justify_content": null,
      "justify_items": null,
      "left": null,
      "margin": null,
      "max_height": null,
      "max_width": null,
      "min_height": null,
      "min_width": null,
      "object_fit": null,
      "object_position": null,
      "order": null,
      "overflow": null,
      "overflow_x": null,
      "overflow_y": null,
      "padding": null,
      "right": null,
      "top": null,
      "visibility": null,
      "width": null
     }
    },
    "2becc7c174154b129196dd197949e556": {
     "model_module": "@jupyter-widgets/controls",
     "model_module_version": "1.5.0",
     "model_name": "FloatProgressModel",
     "state": {
      "_dom_classes": [],
      "_model_module": "@jupyter-widgets/controls",
      "_model_module_version": "1.5.0",
      "_model_name": "FloatProgressModel",
      "_view_count": null,
      "_view_module": "@jupyter-widgets/controls",
      "_view_module_version": "1.5.0",
      "_view_name": "ProgressView",
      "bar_style": "success",
      "description": "",
      "description_tooltip": null,
      "layout": "IPY_MODEL_20c2c0892819411292acb18b187cf1ab",
      "max": 10,
      "min": 0,
      "orientation": "horizontal",
      "style": "IPY_MODEL_57d3bff3b20f4edb81bd3c694012c322",
      "value": 10
     }
    },
    "4bf1030aab8c49e68f84578b6ffe9ceb": {
     "model_module": "@jupyter-widgets/controls",
     "model_module_version": "1.5.0",
     "model_name": "DescriptionStyleModel",
     "state": {
      "_model_module": "@jupyter-widgets/controls",
      "_model_module_version": "1.5.0",
      "_model_name": "DescriptionStyleModel",
      "_view_count": null,
      "_view_module": "@jupyter-widgets/base",
      "_view_module_version": "1.2.0",
      "_view_name": "StyleView",
      "description_width": ""
     }
    },
    "57d3bff3b20f4edb81bd3c694012c322": {
     "model_module": "@jupyter-widgets/controls",
     "model_module_version": "1.5.0",
     "model_name": "ProgressStyleModel",
     "state": {
      "_model_module": "@jupyter-widgets/controls",
      "_model_module_version": "1.5.0",
      "_model_name": "ProgressStyleModel",
      "_view_count": null,
      "_view_module": "@jupyter-widgets/base",
      "_view_module_version": "1.2.0",
      "_view_name": "StyleView",
      "bar_color": null,
      "description_width": ""
     }
    },
    "86572d02f4ca4beb91974d631cb84b54": {
     "model_module": "@jupyter-widgets/controls",
     "model_module_version": "1.5.0",
     "model_name": "HBoxModel",
     "state": {
      "_dom_classes": [],
      "_model_module": "@jupyter-widgets/controls",
      "_model_module_version": "1.5.0",
      "_model_name": "HBoxModel",
      "_view_count": null,
      "_view_module": "@jupyter-widgets/controls",
      "_view_module_version": "1.5.0",
      "_view_name": "HBoxView",
      "box_style": "",
      "children": [
       "IPY_MODEL_f4cd32e5267e4a85a259072eb8096c05",
       "IPY_MODEL_2becc7c174154b129196dd197949e556",
       "IPY_MODEL_0835806b17d946c3bfc109dc4428eba0"
      ],
      "layout": "IPY_MODEL_25665b9b12cc4da0b875a9ed19bbe223"
     }
    },
    "cf35e40ab2584d27a0c9f39d6fc69412": {
     "model_module": "@jupyter-widgets/controls",
     "model_module_version": "1.5.0",
     "model_name": "DescriptionStyleModel",
     "state": {
      "_model_module": "@jupyter-widgets/controls",
      "_model_module_version": "1.5.0",
      "_model_name": "DescriptionStyleModel",
      "_view_count": null,
      "_view_module": "@jupyter-widgets/base",
      "_view_module_version": "1.2.0",
      "_view_name": "StyleView",
      "description_width": ""
     }
    },
    "ed7857c4e9564a9b8453aba1732915de": {
     "model_module": "@jupyter-widgets/base",
     "model_module_version": "1.2.0",
     "model_name": "LayoutModel",
     "state": {
      "_model_module": "@jupyter-widgets/base",
      "_model_module_version": "1.2.0",
      "_model_name": "LayoutModel",
      "_view_count": null,
      "_view_module": "@jupyter-widgets/base",
      "_view_module_version": "1.2.0",
      "_view_name": "LayoutView",
      "align_content": null,
      "align_items": null,
      "align_self": null,
      "border": null,
      "bottom": null,
      "display": null,
      "flex": null,
      "flex_flow": null,
      "grid_area": null,
      "grid_auto_columns": null,
      "grid_auto_flow": null,
      "grid_auto_rows": null,
      "grid_column": null,
      "grid_gap": null,
      "grid_row": null,
      "grid_template_areas": null,
      "grid_template_columns": null,
      "grid_template_rows": null,
      "height": null,
      "justify_content": null,
      "justify_items": null,
      "left": null,
      "margin": null,
      "max_height": null,
      "max_width": null,
      "min_height": null,
      "min_width": null,
      "object_fit": null,
      "object_position": null,
      "order": null,
      "overflow": null,
      "overflow_x": null,
      "overflow_y": null,
      "padding": null,
      "right": null,
      "top": null,
      "visibility": null,
      "width": null
     }
    },
    "f4cd32e5267e4a85a259072eb8096c05": {
     "model_module": "@jupyter-widgets/controls",
     "model_module_version": "1.5.0",
     "model_name": "HTMLModel",
     "state": {
      "_dom_classes": [],
      "_model_module": "@jupyter-widgets/controls",
      "_model_module_version": "1.5.0",
      "_model_name": "HTMLModel",
      "_view_count": null,
      "_view_module": "@jupyter-widgets/controls",
      "_view_module_version": "1.5.0",
      "_view_name": "HTMLView",
      "description": "",
      "description_tooltip": null,
      "layout": "IPY_MODEL_ed7857c4e9564a9b8453aba1732915de",
      "placeholder": "​",
      "style": "IPY_MODEL_4bf1030aab8c49e68f84578b6ffe9ceb",
      "value": "100%"
     }
    },
    "ff57a2114f9f487d9310107bf7e92d7a": {
     "model_module": "@jupyter-widgets/base",
     "model_module_version": "1.2.0",
     "model_name": "LayoutModel",
     "state": {
      "_model_module": "@jupyter-widgets/base",
      "_model_module_version": "1.2.0",
      "_model_name": "LayoutModel",
      "_view_count": null,
      "_view_module": "@jupyter-widgets/base",
      "_view_module_version": "1.2.0",
      "_view_name": "LayoutView",
      "align_content": null,
      "align_items": null,
      "align_self": null,
      "border": null,
      "bottom": null,
      "display": null,
      "flex": null,
      "flex_flow": null,
      "grid_area": null,
      "grid_auto_columns": null,
      "grid_auto_flow": null,
      "grid_auto_rows": null,
      "grid_column": null,
      "grid_gap": null,
      "grid_row": null,
      "grid_template_areas": null,
      "grid_template_columns": null,
      "grid_template_rows": null,
      "height": null,
      "justify_content": null,
      "justify_items": null,
      "left": null,
      "margin": null,
      "max_height": null,
      "max_width": null,
      "min_height": null,
      "min_width": null,
      "object_fit": null,
      "object_position": null,
      "order": null,
      "overflow": null,
      "overflow_x": null,
      "overflow_y": null,
      "padding": null,
      "right": null,
      "top": null,
      "visibility": null,
      "width": null
     }
    }
   }
  }
 },
 "nbformat": 4,
 "nbformat_minor": 0
}
