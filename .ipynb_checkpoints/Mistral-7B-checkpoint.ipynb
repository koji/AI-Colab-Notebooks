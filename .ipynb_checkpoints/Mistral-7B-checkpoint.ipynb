{
 "cells": [
  {
   "cell_type": "code",
   "execution_count": null,
   "id": "7357c8b3-7eba-451c-8bb1-042865247df1",
   "metadata": {},
   "outputs": [],
   "source": [
    "# download model from huggingface\n",
    "!wget https://huggingface.co/TheBloke/OpenHermes-2-Mistral-7B-GGUF/resolve/main/openhermes-2-mistral-7b.Q5_K_M.gguf"
   ]
  },
  {
   "cell_type": "code",
   "execution_count": null,
   "id": "2a0c9600-8f43-435c-845b-358201cbe4ee",
   "metadata": {},
   "outputs": [],
   "source": [
    "%%capture\n",
    "!CMAKE_ARGS=\"-DLLAMA_CUBLAS=on\" FORCE_CMAKE=1 pip install llama-cpp-python"
   ]
  },
  {
   "cell_type": "code",
   "execution_count": null,
   "id": "ef696eae-9867-4fe8-b030-11eff3f23e4b",
   "metadata": {},
   "outputs": [],
   "source": [
    "# https://huggingface.co/TheBloke/OpenHermes-2-Mistral-7B-GGUF#example-llamacpp-command\n",
    "from llama_cpp import Llama\n",
    "import ctypes\n",
    "llm =Llama(model_path=\"/content/openhermes-2-mistral-7b.Q5_K_M.gguf\", n_gpu_layers=32)"
   ]
  },
  {
   "cell_type": "code",
   "execution_count": null,
   "id": "1315c16c-ec98-4b52-86b0-1cfc52167041",
   "metadata": {},
   "outputs": [],
   "source": [
    "prompt = \"Generate lyrics for a romantic love song\"\n",
    "input_prompt = f\"\"\"[INST] <<SYS>>\n",
    "You are a charismatics, talented, respectful and honest musician. Always answer as helpfully as possible, while being safe.  Your answers should not include any harmful, unethical, racist, sexist, toxic, dangerous, or illegal content. Please ensure that your responses are socially unbiased and positive in nature.\n",
    "\n",
    "If a question does not make any sense, or is not factually coherent, explain why instead of answering something not correct. If you don't know the answer to a question, please don't share false information.\n",
    "<</SYS>>\n",
    "\n",
    "{prompt} [/INST]\"\"\""
   ]
  },
  {
   "cell_type": "code",
   "execution_count": null,
   "id": "c3b0dd20-5cd2-4189-8711-45538b7b1fa0",
   "metadata": {},
   "outputs": [],
   "source": [
    "# inference\n",
    "output = llm(input_prompt,max_tokens=1024)"
   ]
  },
  {
   "cell_type": "code",
   "execution_count": null,
   "id": "edd1d5a8-e576-4d06-83be-6ec5301bd457",
   "metadata": {},
   "outputs": [],
   "source": [
    "print(output[\"choices\"][0][\"text\"])"
   ]
  },
  {
   "cell_type": "code",
   "execution_count": null,
   "id": "8881aa02-9934-4a6b-b373-70a9026f8e67",
   "metadata": {},
   "outputs": [],
   "source": []
  },
  {
   "cell_type": "code",
   "execution_count": null,
   "id": "d81e28b2-8906-49c1-b415-01c94ac103de",
   "metadata": {},
   "outputs": [],
   "source": []
  },
  {
   "cell_type": "code",
   "execution_count": null,
   "id": "704dce4b-2039-488e-94d3-55c4cbfef3d1",
   "metadata": {},
   "outputs": [],
   "source": []
  },
  {
   "cell_type": "code",
   "execution_count": null,
   "id": "30f5f3bf-95be-4566-97de-3c63c6d6b649",
   "metadata": {},
   "outputs": [],
   "source": []
  },
  {
   "cell_type": "code",
   "execution_count": null,
   "id": "0ca36fb7-1fc4-44f9-a312-62d63f475999",
   "metadata": {},
   "outputs": [],
   "source": []
  },
  {
   "cell_type": "code",
   "execution_count": null,
   "id": "98ea8d21-95d5-42d7-86c6-46e0d148feab",
   "metadata": {},
   "outputs": [],
   "source": []
  },
  {
   "cell_type": "code",
   "execution_count": null,
   "id": "64e91a3f-d85c-4763-a7e0-4bdd0f748b2e",
   "metadata": {},
   "outputs": [],
   "source": []
  },
  {
   "cell_type": "code",
   "execution_count": null,
   "id": "76983f3d-251f-4b4c-9623-9dbc26449b56",
   "metadata": {},
   "outputs": [],
   "source": []
  },
  {
   "cell_type": "code",
   "execution_count": null,
   "id": "5f0c30a2-f8bf-4aa3-bd9e-11e7ce0be863",
   "metadata": {},
   "outputs": [],
   "source": []
  },
  {
   "cell_type": "code",
   "execution_count": null,
   "id": "e29ca161-7833-4258-b4d7-10bfd495e45e",
   "metadata": {},
   "outputs": [],
   "source": []
  }
 ],
 "metadata": {
  "kernelspec": {
   "display_name": "Python 3 (ipykernel)",
   "language": "python",
   "name": "python3"
  },
  "language_info": {
   "codemirror_mode": {
    "name": "ipython",
    "version": 3
   },
   "file_extension": ".py",
   "mimetype": "text/x-python",
   "name": "python",
   "nbconvert_exporter": "python",
   "pygments_lexer": "ipython3",
   "version": "3.9.16"
  }
 },
 "nbformat": 4,
 "nbformat_minor": 5
}
