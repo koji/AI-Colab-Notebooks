{
  "nbformat": 4,
  "nbformat_minor": 0,
  "metadata": {
    "colab": {
      "provenance": [],
      "gpuType": "T4",
      "include_colab_link": true
    },
    "kernelspec": {
      "name": "python3",
      "display_name": "Python 3"
    },
    "language_info": {
      "name": "python"
    },
    "accelerator": "GPU"
  },
  "cells": [
    {
      "cell_type": "markdown",
      "metadata": {
        "id": "view-in-github",
        "colab_type": "text"
      },
      "source": [
        "<a href=\"https://colab.research.google.com/github/koji/llm_on_GoogleColab/blob/main/Calm2_7B_Chat_llama_cpp_python.ipynb\" target=\"_parent\"><img src=\"https://colab.research.google.com/assets/colab-badge.svg\" alt=\"Open In Colab\"/></a>"
      ]
    },
    {
      "cell_type": "code",
      "source": [
        "# download model from huggingface\n",
        "!wget https://huggingface.co/TheBloke/calm2-7B-chat-GGUF/resolve/main/calm2-7b-chat.Q5_K_M.gguf"
      ],
      "metadata": {
        "id": "G4ZTDwe7V1Z6",
        "colab": {
          "base_uri": "https://localhost:8080/"
        },
        "outputId": "f0fbf149-9b36-440d-c686-49057391de59"
      },
      "execution_count": null,
      "outputs": [
        {
          "output_type": "stream",
          "name": "stdout",
          "text": [
            "--2023-11-07 05:54:06--  https://huggingface.co/TheBloke/calm2-7B-chat-GGUF/resolve/main/calm2-7b-chat.Q5_K_M.gguf\n",
            "Resolving huggingface.co (huggingface.co)... 18.172.134.124, 18.172.134.24, 18.172.134.4, ...\n",
            "Connecting to huggingface.co (huggingface.co)|18.172.134.124|:443... connected.\n",
            "HTTP request sent, awaiting response... 302 Found\n",
            "Location: https://cdn-lfs-us-1.huggingface.co/repos/c2/13/c213642dc262a306c77954c9630121de9fbd20f5af196f1bd1c004945bfa8bac/e3064350910093e94d9a869335d8f9b9fc6bd9e39a6ca6a99f1a2fc38cfa1a4d?response-content-disposition=attachment%3B+filename*%3DUTF-8%27%27calm2-7b-chat.Q5_K_M.gguf%3B+filename%3D%22calm2-7b-chat.Q5_K_M.gguf%22%3B&Expires=1699595646&Policy=eyJTdGF0ZW1lbnQiOlt7IkNvbmRpdGlvbiI6eyJEYXRlTGVzc1RoYW4iOnsiQVdTOkVwb2NoVGltZSI6MTY5OTU5NTY0Nn19LCJSZXNvdXJjZSI6Imh0dHBzOi8vY2RuLWxmcy11cy0xLmh1Z2dpbmdmYWNlLmNvL3JlcG9zL2MyLzEzL2MyMTM2NDJkYzI2MmEzMDZjNzc5NTRjOTYzMDEyMWRlOWZiZDIwZjVhZjE5NmYxYmQxYzAwNDk0NWJmYThiYWMvZTMwNjQzNTA5MTAwOTNlOTRkOWE4NjkzMzVkOGY5YjlmYzZiZDllMzlhNmNhNmE5OWYxYTJmYzM4Y2ZhMWE0ZD9yZXNwb25zZS1jb250ZW50LWRpc3Bvc2l0aW9uPSoifV19&Signature=YTGr%7EuOZHy96iWNTwlBpnrfN4YEmduaQXjo0Tu%7E9qpbx5pTquC9GbWY1wnjLUIWsZg5bhbkZPCqgqsNLa2INJ%7E2aFrRA%7EYOXoYrigtpUabbF2ZqEsXe1FRW%7EGlAfA-DhbZpPjWlJUq0cCcjtuRSHJxuyF38HTRCppULsDqKlqSr44TzvEohqoFwzPruSClt2xoeTH86bDuKGCTRSYBFzrr8mkV3W0nv-AIBR7Tpt1YHgFdCA2F7PuieiVkZ7LcGWiRMDeueKXnGyirioVvmLWO4zYmR6O9NMUt1vBfAHWJLvBF0n4qbgvG0NEYDaNxZUI3o95dNncTA55JIBULxWhA__&Key-Pair-Id=KCD77M1F0VK2B [following]\n",
            "--2023-11-07 05:54:07--  https://cdn-lfs-us-1.huggingface.co/repos/c2/13/c213642dc262a306c77954c9630121de9fbd20f5af196f1bd1c004945bfa8bac/e3064350910093e94d9a869335d8f9b9fc6bd9e39a6ca6a99f1a2fc38cfa1a4d?response-content-disposition=attachment%3B+filename*%3DUTF-8%27%27calm2-7b-chat.Q5_K_M.gguf%3B+filename%3D%22calm2-7b-chat.Q5_K_M.gguf%22%3B&Expires=1699595646&Policy=eyJTdGF0ZW1lbnQiOlt7IkNvbmRpdGlvbiI6eyJEYXRlTGVzc1RoYW4iOnsiQVdTOkVwb2NoVGltZSI6MTY5OTU5NTY0Nn19LCJSZXNvdXJjZSI6Imh0dHBzOi8vY2RuLWxmcy11cy0xLmh1Z2dpbmdmYWNlLmNvL3JlcG9zL2MyLzEzL2MyMTM2NDJkYzI2MmEzMDZjNzc5NTRjOTYzMDEyMWRlOWZiZDIwZjVhZjE5NmYxYmQxYzAwNDk0NWJmYThiYWMvZTMwNjQzNTA5MTAwOTNlOTRkOWE4NjkzMzVkOGY5YjlmYzZiZDllMzlhNmNhNmE5OWYxYTJmYzM4Y2ZhMWE0ZD9yZXNwb25zZS1jb250ZW50LWRpc3Bvc2l0aW9uPSoifV19&Signature=YTGr%7EuOZHy96iWNTwlBpnrfN4YEmduaQXjo0Tu%7E9qpbx5pTquC9GbWY1wnjLUIWsZg5bhbkZPCqgqsNLa2INJ%7E2aFrRA%7EYOXoYrigtpUabbF2ZqEsXe1FRW%7EGlAfA-DhbZpPjWlJUq0cCcjtuRSHJxuyF38HTRCppULsDqKlqSr44TzvEohqoFwzPruSClt2xoeTH86bDuKGCTRSYBFzrr8mkV3W0nv-AIBR7Tpt1YHgFdCA2F7PuieiVkZ7LcGWiRMDeueKXnGyirioVvmLWO4zYmR6O9NMUt1vBfAHWJLvBF0n4qbgvG0NEYDaNxZUI3o95dNncTA55JIBULxWhA__&Key-Pair-Id=KCD77M1F0VK2B\n",
            "Resolving cdn-lfs-us-1.huggingface.co (cdn-lfs-us-1.huggingface.co)... 13.226.22.61, 13.226.22.106, 13.226.22.80, ...\n",
            "Connecting to cdn-lfs-us-1.huggingface.co (cdn-lfs-us-1.huggingface.co)|13.226.22.61|:443... connected.\n",
            "HTTP request sent, awaiting response... 200 OK\n",
            "Length: 4989477728 (4.6G) [binary/octet-stream]\n",
            "Saving to: ‘calm2-7b-chat.Q5_K_M.gguf’\n",
            "\n",
            "              calm2  17%[==>                 ] 841.26M  39.1MB/s    eta 1m 45s "
          ]
        }
      ]
    },
    {
      "cell_type": "code",
      "source": [
        "%%capture\n",
        "!CMAKE_ARGS=\"-DLLAMA_CUBLAS=on\" FORCE_CMAKE=1 pip install llama-cpp-python"
      ],
      "metadata": {
        "id": "qBe4BU-2P6sm"
      },
      "execution_count": null,
      "outputs": []
    },
    {
      "cell_type": "code",
      "source": [
        "from llama_cpp import Llama\n",
        "import ctypes\n",
        "llm =Llama(model_path=\"/content/calm2-7b-chat.Q5_K_M.gguf\", n_gpu_layers=32)"
      ],
      "metadata": {
        "id": "HCPD9aUuP6x4"
      },
      "execution_count": null,
      "outputs": []
    },
    {
      "cell_type": "code",
      "source": [
        "prompt = \"サイバーエージェントについて教えてください。\"\n",
        "input_prompt = f\"\"\"[INST] <<SYS>>\n",
        "あなたはカリスマ的で、才能があり、尊敬され、誠実なミュージシャンです。常に安全に、できるだけ役立つように回答してください。あなたの回答には、有害な、不適切な、人種差別的な、性差別的な、有毒な、危険な、または違法な内容を含めないでください。あなたの回答が社会的に偏見がなく、肯定的な性格であることを確認してください。\n",
        "\n",
        "質問が意味をなさない場合、または事実上首尾一貫していない場合は、何か正しくないことを答える代わりに、その理由を説明してください。質問の答えがわからない場合は、誤った情報を共有しないでください。\n",
        "<</SYS>>\n",
        "\n",
        "{prompt} [/INST]\"\"\"\n"
      ],
      "metadata": {
        "id": "ZdvPdWqBVw0d"
      },
      "execution_count": null,
      "outputs": []
    },
    {
      "cell_type": "code",
      "source": [
        "# inference\n",
        "output = llm(input_prompt,max_tokens=4096)"
      ],
      "metadata": {
        "id": "eH7oR-UWP613"
      },
      "execution_count": null,
      "outputs": []
    },
    {
      "cell_type": "code",
      "source": [
        "print(output[\"choices\"][0][\"text\"])"
      ],
      "metadata": {
        "id": "bf0A_hhiQUwj"
      },
      "execution_count": null,
      "outputs": []
    },
    {
      "cell_type": "code",
      "source": [],
      "metadata": {
        "id": "zVZiUCfDQXtc"
      },
      "execution_count": null,
      "outputs": []
    },
    {
      "cell_type": "code",
      "source": [
        "\n",
        "\n"
      ],
      "metadata": {
        "id": "PcGCKmm8RJQp"
      },
      "execution_count": null,
      "outputs": []
    },
    {
      "cell_type": "code",
      "source": [
        "!ls"
      ],
      "metadata": {
        "id": "NtFT2IdXltAm",
        "colab": {
          "base_uri": "https://localhost:8080/"
        },
        "outputId": "60e6a420-2643-4c8b-feae-0c97431c8504"
      },
      "execution_count": null,
      "outputs": [
        {
          "output_type": "stream",
          "name": "stdout",
          "text": [
            "sample_data  test\n"
          ]
        }
      ]
    },
    {
      "cell_type": "code",
      "source": [],
      "metadata": {
        "colab": {
          "base_uri": "https://localhost:8080/"
        },
        "id": "tIhNoSgha6-C",
        "outputId": "ce6c01a3-8e80-4094-a50c-c49df4ad263f"
      },
      "execution_count": null,
      "outputs": [
        {
          "output_type": "stream",
          "name": "stdout",
          "text": [
            "/content/test\n"
          ]
        }
      ]
    },
    {
      "cell_type": "code",
      "source": [
        "!pwd"
      ],
      "metadata": {
        "id": "9Ohl_zoWbAwI",
        "outputId": "84472733-3914-4361-f9a8-3f59de48e25a",
        "colab": {
          "base_uri": "https://localhost:8080/"
        }
      },
      "execution_count": null,
      "outputs": [
        {
          "output_type": "stream",
          "name": "stdout",
          "text": [
            "/content/test\n"
          ]
        }
      ]
    },
    {
      "cell_type": "code",
      "source": [],
      "metadata": {
        "id": "HKN_AB8HbCQa"
      },
      "execution_count": null,
      "outputs": []
    }
  ]
}