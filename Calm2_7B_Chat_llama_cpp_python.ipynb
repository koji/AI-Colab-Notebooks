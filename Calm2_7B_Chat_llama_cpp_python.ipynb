{
  "nbformat": 4,
  "nbformat_minor": 0,
  "metadata": {
    "colab": {
      "provenance": [],
      "gpuType": "T4",
      "include_colab_link": true
    },
    "kernelspec": {
      "name": "python3",
      "display_name": "Python 3"
    },
    "language_info": {
      "name": "python"
    },
    "accelerator": "GPU"
  },
  "cells": [
    {
      "cell_type": "markdown",
      "metadata": {
        "id": "view-in-github",
        "colab_type": "text"
      },
      "source": [
        "<a href=\"https://colab.research.google.com/github/koji/llm_on_GoogleColab/blob/main/Calm2_7B_Chat_llama_cpp_python.ipynb\" target=\"_parent\"><img src=\"https://colab.research.google.com/assets/colab-badge.svg\" alt=\"Open In Colab\"/></a>"
      ]
    },
    {
      "cell_type": "code",
      "source": [
        "# download model from huggingface\n",
        "!wget https://huggingface.co/TheBloke/calm2-7B-chat-GGUF/resolve/main/calm2-7b-chat.Q5_K_M.gguf"
      ],
      "metadata": {
        "id": "G4ZTDwe7V1Z6",
        "colab": {
          "base_uri": "https://localhost:8080/"
        },
        "outputId": "f0fbf149-9b36-440d-c686-49057391de59"
      },
      "execution_count": 1,
      "outputs": [
        {
          "output_type": "stream",
          "name": "stdout",
          "text": [
            "--2023-11-07 05:54:06--  https://huggingface.co/TheBloke/calm2-7B-chat-GGUF/resolve/main/calm2-7b-chat.Q5_K_M.gguf\n",
            "Resolving huggingface.co (huggingface.co)... 18.172.134.124, 18.172.134.24, 18.172.134.4, ...\n",
            "Connecting to huggingface.co (huggingface.co)|18.172.134.124|:443... connected.\n",
            "HTTP request sent, awaiting response... 302 Found\n",
            "Location: https://cdn-lfs-us-1.huggingface.co/repos/c2/13/c213642dc262a306c77954c9630121de9fbd20f5af196f1bd1c004945bfa8bac/e3064350910093e94d9a869335d8f9b9fc6bd9e39a6ca6a99f1a2fc38cfa1a4d?response-content-disposition=attachment%3B+filename*%3DUTF-8%27%27calm2-7b-chat.Q5_K_M.gguf%3B+filename%3D%22calm2-7b-chat.Q5_K_M.gguf%22%3B&Expires=1699595646&Policy=eyJTdGF0ZW1lbnQiOlt7IkNvbmRpdGlvbiI6eyJEYXRlTGVzc1RoYW4iOnsiQVdTOkVwb2NoVGltZSI6MTY5OTU5NTY0Nn19LCJSZXNvdXJjZSI6Imh0dHBzOi8vY2RuLWxmcy11cy0xLmh1Z2dpbmdmYWNlLmNvL3JlcG9zL2MyLzEzL2MyMTM2NDJkYzI2MmEzMDZjNzc5NTRjOTYzMDEyMWRlOWZiZDIwZjVhZjE5NmYxYmQxYzAwNDk0NWJmYThiYWMvZTMwNjQzNTA5MTAwOTNlOTRkOWE4NjkzMzVkOGY5YjlmYzZiZDllMzlhNmNhNmE5OWYxYTJmYzM4Y2ZhMWE0ZD9yZXNwb25zZS1jb250ZW50LWRpc3Bvc2l0aW9uPSoifV19&Signature=YTGr%7EuOZHy96iWNTwlBpnrfN4YEmduaQXjo0Tu%7E9qpbx5pTquC9GbWY1wnjLUIWsZg5bhbkZPCqgqsNLa2INJ%7E2aFrRA%7EYOXoYrigtpUabbF2ZqEsXe1FRW%7EGlAfA-DhbZpPjWlJUq0cCcjtuRSHJxuyF38HTRCppULsDqKlqSr44TzvEohqoFwzPruSClt2xoeTH86bDuKGCTRSYBFzrr8mkV3W0nv-AIBR7Tpt1YHgFdCA2F7PuieiVkZ7LcGWiRMDeueKXnGyirioVvmLWO4zYmR6O9NMUt1vBfAHWJLvBF0n4qbgvG0NEYDaNxZUI3o95dNncTA55JIBULxWhA__&Key-Pair-Id=KCD77M1F0VK2B [following]\n",
            "--2023-11-07 05:54:07--  https://cdn-lfs-us-1.huggingface.co/repos/c2/13/c213642dc262a306c77954c9630121de9fbd20f5af196f1bd1c004945bfa8bac/e3064350910093e94d9a869335d8f9b9fc6bd9e39a6ca6a99f1a2fc38cfa1a4d?response-content-disposition=attachment%3B+filename*%3DUTF-8%27%27calm2-7b-chat.Q5_K_M.gguf%3B+filename%3D%22calm2-7b-chat.Q5_K_M.gguf%22%3B&Expires=1699595646&Policy=eyJTdGF0ZW1lbnQiOlt7IkNvbmRpdGlvbiI6eyJEYXRlTGVzc1RoYW4iOnsiQVdTOkVwb2NoVGltZSI6MTY5OTU5NTY0Nn19LCJSZXNvdXJjZSI6Imh0dHBzOi8vY2RuLWxmcy11cy0xLmh1Z2dpbmdmYWNlLmNvL3JlcG9zL2MyLzEzL2MyMTM2NDJkYzI2MmEzMDZjNzc5NTRjOTYzMDEyMWRlOWZiZDIwZjVhZjE5NmYxYmQxYzAwNDk0NWJmYThiYWMvZTMwNjQzNTA5MTAwOTNlOTRkOWE4NjkzMzVkOGY5YjlmYzZiZDllMzlhNmNhNmE5OWYxYTJmYzM4Y2ZhMWE0ZD9yZXNwb25zZS1jb250ZW50LWRpc3Bvc2l0aW9uPSoifV19&Signature=YTGr%7EuOZHy96iWNTwlBpnrfN4YEmduaQXjo0Tu%7E9qpbx5pTquC9GbWY1wnjLUIWsZg5bhbkZPCqgqsNLa2INJ%7E2aFrRA%7EYOXoYrigtpUabbF2ZqEsXe1FRW%7EGlAfA-DhbZpPjWlJUq0cCcjtuRSHJxuyF38HTRCppULsDqKlqSr44TzvEohqoFwzPruSClt2xoeTH86bDuKGCTRSYBFzrr8mkV3W0nv-AIBR7Tpt1YHgFdCA2F7PuieiVkZ7LcGWiRMDeueKXnGyirioVvmLWO4zYmR6O9NMUt1vBfAHWJLvBF0n4qbgvG0NEYDaNxZUI3o95dNncTA55JIBULxWhA__&Key-Pair-Id=KCD77M1F0VK2B\n",
            "Resolving cdn-lfs-us-1.huggingface.co (cdn-lfs-us-1.huggingface.co)... 13.226.22.61, 13.226.22.106, 13.226.22.80, ...\n",
            "Connecting to cdn-lfs-us-1.huggingface.co (cdn-lfs-us-1.huggingface.co)|13.226.22.61|:443... connected.\n",
            "HTTP request sent, awaiting response... 200 OK\n",
            "Length: 4989477728 (4.6G) [binary/octet-stream]\n",
            "Saving to: ‘calm2-7b-chat.Q5_K_M.gguf’\n",
            "\n",
            "calm2-7b-chat.Q5_K_ 100%[===================>]   4.65G  41.6MB/s    in 2m 9s   \n",
            "\n",
            "2023-11-07 05:56:15 (37.0 MB/s) - ‘calm2-7b-chat.Q5_K_M.gguf’ saved [4989477728/4989477728]\n",
            "\n"
          ]
        }
      ]
    },
    {
      "cell_type": "code",
      "source": [
        "%%capture\n",
        "!CMAKE_ARGS=\"-DLLAMA_CUBLAS=on\" FORCE_CMAKE=1 pip install llama-cpp-python"
      ],
      "metadata": {
        "id": "qBe4BU-2P6sm"
      },
      "execution_count": 2,
      "outputs": []
    },
    {
      "cell_type": "code",
      "source": [
        "from llama_cpp import Llama\n",
        "import ctypes\n",
        "llm =Llama(model_path=\"/content/calm2-7b-chat.Q5_K_M.gguf\", n_gpu_layers=32)"
      ],
      "metadata": {
        "id": "HCPD9aUuP6x4",
        "colab": {
          "base_uri": "https://localhost:8080/"
        },
        "outputId": "c6187a7d-ef3e-4970-af55-7603e592465f"
      },
      "execution_count": 3,
      "outputs": [
        {
          "output_type": "stream",
          "name": "stderr",
          "text": [
            "AVX = 1 | AVX2 = 1 | AVX512 = 0 | AVX512_VBMI = 0 | AVX512_VNNI = 0 | FMA = 1 | NEON = 0 | ARM_FMA = 0 | F16C = 1 | FP16_VA = 0 | WASM_SIMD = 0 | BLAS = 1 | SSE3 = 1 | SSSE3 = 1 | VSX = 0 | \n"
          ]
        }
      ]
    },
    {
      "cell_type": "code",
      "source": [
        "prompt = \"サイバーエージェントについて教えてください。\""
      ],
      "metadata": {
        "id": "ZdvPdWqBVw0d"
      },
      "execution_count": 20,
      "outputs": []
    },
    {
      "cell_type": "code",
      "source": [
        "# inference\n",
        "output = llm(prompt,max_tokens=4096)"
      ],
      "metadata": {
        "id": "eH7oR-UWP613",
        "colab": {
          "base_uri": "https://localhost:8080/"
        },
        "outputId": "f45e2058-44de-4c90-dc45-a73c09541d3a"
      },
      "execution_count": null,
      "outputs": [
        {
          "output_type": "stream",
          "name": "stderr",
          "text": [
            "Llama.generate: prefix-match hit\n"
          ]
        }
      ]
    },
    {
      "cell_type": "code",
      "source": [
        "print(output[\"choices\"][0][\"text\"])"
      ],
      "metadata": {
        "id": "bf0A_hhiQUwj"
      },
      "execution_count": null,
      "outputs": []
    },
    {
      "cell_type": "code",
      "source": [],
      "metadata": {
        "id": "hKzDa1zrXH0g"
      },
      "execution_count": 16,
      "outputs": []
    },
    {
      "cell_type": "code",
      "source": [],
      "metadata": {
        "id": "oubGj2LUXKiH"
      },
      "execution_count": null,
      "outputs": []
    }
  ]
}